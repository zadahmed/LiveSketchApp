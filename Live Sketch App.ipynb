{
 "cells": [
  {
   "cell_type": "code",
   "execution_count": 13,
   "metadata": {},
   "outputs": [],
   "source": [
    "import cv2\n",
    "import numpy as np\n",
    "\n",
    "#Create a sketch generating function\n",
    "def sketch(image):\n",
    "    \n",
    "    img_gray = cv2.cvtColor(image , cv2.COLOR_BGR2GRAY) #convert image to grayscale\n",
    "    \n",
    "\n",
    "    #remove noise using gaussian blur\n",
    "    \n",
    "    img_gray_b = cv2.GaussianBlur(img_gray , (5,5) , 0)\n",
    "    \n",
    "    #Extract edges\n",
    "    \n",
    "    canny_edges = cv2.Canny(img_gray_b ,10,45)\n",
    "    \n",
    "    ret , mask = cv2.threshold(canny_edges , 70 ,255 , cv2.THRESH_BINARY_INV)\n",
    "    return mask\n",
    "    \n",
    "    \n",
    "    \n",
    "cap = cv2.VideoCapture(0)\n",
    "\n",
    "while True:\n",
    "    ret , frame = cap.read(0) #ret if it was run successfully or not true or false\n",
    "    cv2.imshow('Sketcher' , sketch(frame))\n",
    "    if cv2.waitKey(1) == 13: #to break look when enter\n",
    "        break\n",
    "        \n",
    "cap.release()\n",
    "cv2.destroyAllWindows()"
   ]
  },
  {
   "cell_type": "code",
   "execution_count": null,
   "metadata": {},
   "outputs": [],
   "source": []
  }
 ],
 "metadata": {
  "kernelspec": {
   "display_name": "Python 3",
   "language": "python",
   "name": "python3"
  },
  "language_info": {
   "codemirror_mode": {
    "name": "ipython",
    "version": 3
   },
   "file_extension": ".py",
   "mimetype": "text/x-python",
   "name": "python",
   "nbconvert_exporter": "python",
   "pygments_lexer": "ipython3",
   "version": "3.7.1"
  }
 },
 "nbformat": 4,
 "nbformat_minor": 2
}
